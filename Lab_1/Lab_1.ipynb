{
 "cells": [
  {
   "cell_type": "markdown",
   "id": "b5f6a0ca",
   "metadata": {},
   "source": [
    "### Import Pandas Library"
   ]
  },
  {
   "cell_type": "code",
   "execution_count": 1,
   "id": "41a2db34-fb56-466f-82f1-417dfbb42ddd",
   "metadata": {},
   "outputs": [],
   "source": [
    "import pandas as pd"
   ]
  },
  {
   "cell_type": "markdown",
   "id": "6520a8cd",
   "metadata": {},
   "source": [
    "### Read data from provided CSV file\n"
   ]
  },
  {
   "cell_type": "code",
   "execution_count": 2,
   "id": "0cc6c2f8-1256-4dc5-8153-0df482d41333",
   "metadata": {},
   "outputs": [
    {
     "data": {
      "text/html": [
       "<div>\n",
       "<style scoped>\n",
       "    .dataframe tbody tr th:only-of-type {\n",
       "        vertical-align: middle;\n",
       "    }\n",
       "\n",
       "    .dataframe tbody tr th {\n",
       "        vertical-align: top;\n",
       "    }\n",
       "\n",
       "    .dataframe thead th {\n",
       "        text-align: right;\n",
       "    }\n",
       "</style>\n",
       "<table border=\"1\" class=\"dataframe\">\n",
       "  <thead>\n",
       "    <tr style=\"text-align: right;\">\n",
       "      <th></th>\n",
       "      <th>total_bill</th>\n",
       "      <th>tip</th>\n",
       "      <th>sex</th>\n",
       "      <th>smoker</th>\n",
       "      <th>day</th>\n",
       "      <th>time</th>\n",
       "      <th>size</th>\n",
       "    </tr>\n",
       "  </thead>\n",
       "  <tbody>\n",
       "    <tr>\n",
       "      <th>0</th>\n",
       "      <td>16.99</td>\n",
       "      <td>1.01</td>\n",
       "      <td>Female</td>\n",
       "      <td>No</td>\n",
       "      <td>Sun</td>\n",
       "      <td>Dinner</td>\n",
       "      <td>2</td>\n",
       "    </tr>\n",
       "    <tr>\n",
       "      <th>1</th>\n",
       "      <td>10.34</td>\n",
       "      <td>1.66</td>\n",
       "      <td>Male</td>\n",
       "      <td>No</td>\n",
       "      <td>Sun</td>\n",
       "      <td>Dinner</td>\n",
       "      <td>3</td>\n",
       "    </tr>\n",
       "    <tr>\n",
       "      <th>2</th>\n",
       "      <td>21.01</td>\n",
       "      <td>3.50</td>\n",
       "      <td>Male</td>\n",
       "      <td>No</td>\n",
       "      <td>Sun</td>\n",
       "      <td>Dinner</td>\n",
       "      <td>3</td>\n",
       "    </tr>\n",
       "    <tr>\n",
       "      <th>3</th>\n",
       "      <td>23.68</td>\n",
       "      <td>3.31</td>\n",
       "      <td>Male</td>\n",
       "      <td>No</td>\n",
       "      <td>Sun</td>\n",
       "      <td>Dinner</td>\n",
       "      <td>2</td>\n",
       "    </tr>\n",
       "    <tr>\n",
       "      <th>4</th>\n",
       "      <td>24.59</td>\n",
       "      <td>3.61</td>\n",
       "      <td>Female</td>\n",
       "      <td>No</td>\n",
       "      <td>Sun</td>\n",
       "      <td>Dinner</td>\n",
       "      <td>4</td>\n",
       "    </tr>\n",
       "  </tbody>\n",
       "</table>\n",
       "</div>"
      ],
      "text/plain": [
       "   total_bill   tip     sex smoker  day    time  size\n",
       "0       16.99  1.01  Female     No  Sun  Dinner     2\n",
       "1       10.34  1.66    Male     No  Sun  Dinner     3\n",
       "2       21.01  3.50    Male     No  Sun  Dinner     3\n",
       "3       23.68  3.31    Male     No  Sun  Dinner     2\n",
       "4       24.59  3.61  Female     No  Sun  Dinner     4"
      ]
     },
     "execution_count": 2,
     "metadata": {},
     "output_type": "execute_result"
    }
   ],
   "source": [
    "df = pd.read_csv(\"tips.csv\")\n",
    "df.head()"
   ]
  },
  {
   "cell_type": "markdown",
   "id": "60a6182a",
   "metadata": {},
   "source": [
    "### Display the type of Data"
   ]
  },
  {
   "cell_type": "code",
   "execution_count": 3,
   "id": "839e6114-acc1-4544-802c-fd2df01e4892",
   "metadata": {},
   "outputs": [
    {
     "data": {
      "text/plain": [
       "total_bill    float64\n",
       "tip           float64\n",
       "sex            object\n",
       "smoker         object\n",
       "day            object\n",
       "time           object\n",
       "size            int64\n",
       "dtype: object"
      ]
     },
     "execution_count": 3,
     "metadata": {},
     "output_type": "execute_result"
    }
   ],
   "source": [
    "df.dtypes\n"
   ]
  },
  {
   "cell_type": "markdown",
   "id": "0c589193",
   "metadata": {},
   "source": [
    "### Display columns of Data Frame"
   ]
  },
  {
   "cell_type": "code",
   "execution_count": 4,
   "id": "d3ea900f-0ec3-40f7-b1e6-864b91959f8b",
   "metadata": {},
   "outputs": [
    {
     "data": {
      "text/plain": [
       "Index(['total_bill', 'tip', 'sex', 'smoker', 'day', 'time', 'size'], dtype='object')"
      ]
     },
     "execution_count": 4,
     "metadata": {},
     "output_type": "execute_result"
    }
   ],
   "source": [
    "df.columns\n"
   ]
  },
  {
   "cell_type": "markdown",
   "id": "021111c2",
   "metadata": {},
   "source": [
    "### Extract and display the first few rows of the following columns \n",
    "    - Total_Bill\n",
    "    - Tip\n",
    "    - Sex"
   ]
  },
  {
   "cell_type": "code",
   "execution_count": 5,
   "id": "99d81684-a4a3-4084-af94-726de3d8e5ee",
   "metadata": {},
   "outputs": [
    {
     "name": "stdout",
     "output_type": "stream",
     "text": [
      "   total_bill   tip     sex\n",
      "0       16.99  1.01  Female\n",
      "1       10.34  1.66    Male\n",
      "2       21.01  3.50    Male\n",
      "3       23.68  3.31    Male\n",
      "4       24.59  3.61  Female\n"
     ]
    }
   ],
   "source": [
    "selected_columns = ['total_bill', 'tip', 'sex']\n",
    "selected_data = df.loc[:, selected_columns].head()\n",
    "#selected_data = df.loc[:, ('total_bill','tip','sex')].head()\n",
    "\n",
    "print(selected_data)"
   ]
  },
  {
   "cell_type": "markdown",
   "id": "619da20e",
   "metadata": {},
   "source": [
    "### Display and Sort values of Day and Total_Bill in Descending Order "
   ]
  },
  {
   "cell_type": "code",
   "execution_count": 6,
   "id": "27b31eb4-f4e8-4e87-8e86-dee7a774f4f4",
   "metadata": {},
   "outputs": [
    {
     "name": "stdout",
     "output_type": "stream",
     "text": [
      "      day  total_bill\n",
      "197  Thur       43.11\n",
      "142  Thur       41.19\n",
      "85   Thur       34.83\n",
      "141  Thur       34.30\n",
      "83   Thur       32.68\n",
      "..    ...         ...\n",
      "97    Fri       12.03\n",
      "100   Fri       11.35\n",
      "226   Fri       10.09\n",
      "222   Fri        8.58\n",
      "92    Fri        5.75\n",
      "\n",
      "[244 rows x 2 columns]\n"
     ]
    }
   ],
   "source": [
    "#sorted_data = df[['day', 'total_bill']].sort_values(by=['day', 'total_bill'], ascending=False)\n",
    "sorts=[\"day\",\"total_bill\"]\n",
    "sorted_data=df[sorts].sort_values(by=sorts,ascending=False)\n",
    "print(sorted_data)"
   ]
  },
  {
   "cell_type": "markdown",
   "id": "6c3f132b",
   "metadata": {},
   "source": [
    "### Display Unique Days from Data"
   ]
  },
  {
   "cell_type": "code",
   "execution_count": 7,
   "id": "8f6d93b2-9d13-4ba3-b28b-4ddd2b4c9c45",
   "metadata": {},
   "outputs": [
    {
     "name": "stdout",
     "output_type": "stream",
     "text": [
      "['Sun' 'Sat' 'Thur' 'Fri']\n"
     ]
    }
   ],
   "source": [
    "unique_days = df['day'].unique()\n",
    "print(unique_days)"
   ]
  },
  {
   "cell_type": "markdown",
   "id": "deab58d8",
   "metadata": {},
   "source": [
    "### Change the Value of Tip in Second Row to '2' and Display the Data"
   ]
  },
  {
   "cell_type": "code",
   "execution_count": 8,
   "id": "4e0600e7-ccd4-407e-8e6a-61fc97201f9f",
   "metadata": {},
   "outputs": [
    {
     "name": "stdout",
     "output_type": "stream",
     "text": [
      "   total_bill   tip     sex smoker  day    time  size\n",
      "0       16.99  1.01  Female     No  Sun  Dinner     2\n",
      "1       10.34  2.00    Male     No  Sun  Dinner     3\n",
      "2       21.01  3.50    Male     No  Sun  Dinner     3\n",
      "3       23.68  3.31    Male     No  Sun  Dinner     2\n",
      "4       24.59  3.61  Female     No  Sun  Dinner     4\n"
     ]
    }
   ],
   "source": [
    "df.loc[1, 'tip'] = 2\n",
    "print(df.head())"
   ]
  },
  {
   "cell_type": "markdown",
   "id": "089f02a5",
   "metadata": {},
   "source": [
    "### Add new column \"TOTAL\" = Total Bill + Tip"
   ]
  },
  {
   "cell_type": "code",
   "execution_count": 9,
   "id": "1cee10d6-96a3-4851-9f15-7cf635a952f1",
   "metadata": {},
   "outputs": [
    {
     "name": "stdout",
     "output_type": "stream",
     "text": [
      "     total_bill   tip     sex smoker   day    time  size  TOTAL\n",
      "0         16.99  1.01  Female     No   Sun  Dinner     2  18.00\n",
      "1         10.34  2.00    Male     No   Sun  Dinner     3  12.34\n",
      "2         21.01  3.50    Male     No   Sun  Dinner     3  24.51\n",
      "3         23.68  3.31    Male     No   Sun  Dinner     2  26.99\n",
      "4         24.59  3.61  Female     No   Sun  Dinner     4  28.20\n",
      "..          ...   ...     ...    ...   ...     ...   ...    ...\n",
      "239       29.03  5.92    Male     No   Sat  Dinner     3  34.95\n",
      "240       27.18  2.00  Female    Yes   Sat  Dinner     2  29.18\n",
      "241       22.67  2.00    Male    Yes   Sat  Dinner     2  24.67\n",
      "242       17.82  1.75    Male     No   Sat  Dinner     2  19.57\n",
      "243       18.78  3.00  Female     No  Thur  Dinner     2  21.78\n",
      "\n",
      "[244 rows x 8 columns]\n"
     ]
    }
   ],
   "source": [
    "df['TOTAL'] = df['total_bill'] + df['tip']\n",
    "print(df)"
   ]
  },
  {
   "cell_type": "markdown",
   "id": "fbb1d061",
   "metadata": {},
   "source": [
    "### Store the names of columns in \"Cols\" variable"
   ]
  },
  {
   "cell_type": "code",
   "execution_count": 10,
   "id": "accc2fb1-4d23-4b24-ab45-b14a8f4c2693",
   "metadata": {},
   "outputs": [
    {
     "name": "stdout",
     "output_type": "stream",
     "text": [
      "Index(['total_bill', 'tip', 'sex', 'smoker', 'day', 'time', 'size', 'TOTAL'], dtype='object')\n"
     ]
    }
   ],
   "source": [
    "Cols = df.columns\n",
    "print(Cols)"
   ]
  },
  {
   "cell_type": "markdown",
   "id": "9b478a3f",
   "metadata": {},
   "source": [
    "### Create a List (tmp) of Column in following order\n",
    "### 6, 2, 4, 5"
   ]
  },
  {
   "cell_type": "code",
   "execution_count": 11,
   "id": "7e64aa44-e08c-4450-a853-f38956ee57f4",
   "metadata": {},
   "outputs": [
    {
     "name": "stdout",
     "output_type": "stream",
     "text": [
      "['size', 'sex', 'day', 'time']\n"
     ]
    }
   ],
   "source": [
    "tmp = df.columns[[6, 2, 4, 5]].tolist()\n",
    "print(tmp)"
   ]
  },
  {
   "cell_type": "markdown",
   "id": "17b040dc",
   "metadata": {},
   "source": [
    "### Create a new Dataframe with Columns from 'Tmp'"
   ]
  },
  {
   "cell_type": "code",
   "execution_count": 12,
   "id": "b79f8a41-3282-4f3f-84a8-c2a20a508e87",
   "metadata": {},
   "outputs": [
    {
     "name": "stdout",
     "output_type": "stream",
     "text": [
      "     size     sex   day    time\n",
      "0       2  Female   Sun  Dinner\n",
      "1       3    Male   Sun  Dinner\n",
      "2       3    Male   Sun  Dinner\n",
      "3       2    Male   Sun  Dinner\n",
      "4       4  Female   Sun  Dinner\n",
      "..    ...     ...   ...     ...\n",
      "239     3    Male   Sat  Dinner\n",
      "240     2  Female   Sat  Dinner\n",
      "241     2    Male   Sat  Dinner\n",
      "242     2    Male   Sat  Dinner\n",
      "243     2  Female  Thur  Dinner\n",
      "\n",
      "[244 rows x 4 columns]\n"
     ]
    }
   ],
   "source": [
    "new_df = df.loc[:, tmp]\n",
    "\n",
    "print(new_df)"
   ]
  }
 ],
 "metadata": {
  "kernelspec": {
   "display_name": "Python 3 (ipykernel)",
   "language": "python",
   "name": "python3"
  },
  "language_info": {
   "codemirror_mode": {
    "name": "ipython",
    "version": 3
   },
   "file_extension": ".py",
   "mimetype": "text/x-python",
   "name": "python",
   "nbconvert_exporter": "python",
   "pygments_lexer": "ipython3",
   "version": "3.12.0"
  }
 },
 "nbformat": 4,
 "nbformat_minor": 5
}
